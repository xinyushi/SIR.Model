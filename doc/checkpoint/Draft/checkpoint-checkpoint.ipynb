{
 "cells": [
  {
   "cell_type": "markdown",
   "metadata": {},
   "source": [
    "## 1"
   ]
  },
  {
   "cell_type": "markdown",
   "metadata": {},
   "source": [
    "SIR model:"
   ]
  },
  {
   "cell_type": "markdown",
   "metadata": {},
   "source": [
    "## 2"
   ]
  },
  {
   "cell_type": "markdown",
   "metadata": {},
   "source": [
    "Introduction to agent-based model:\n",
    "\n",
    "The key idea is that we have total number of N people and some of them are infected initially. These N people interact with b other people per day. If the person is infectious, the person who interacts with him will get infected. The probability of a person get infected is p and k is the probability of a person gets recovered. We can choose the duration we want to simulate in the model.\n",
    "\n",
    "\n",
    "ODE model:"
   ]
  },
  {
   "cell_type": "markdown",
   "metadata": {},
   "source": [
    "## 3"
   ]
  },
  {
   "cell_type": "markdown",
   "metadata": {},
   "source": [
    "Fixed parameters for these simulation:\n",
    "- number of days = 150\n",
    "- percentage of initial infected people = 0.01\n",
    "- number of people = 1000\n",
    "\n",
    "**The first simulation of two models is b=1, k=1/3**\n",
    "\n",
    "![Continous SIR Model (b=1,k=1/3)](https://raw.githubusercontent.com/caam37830/project-group-7/main/Images/C_SIR_1.png?token=ARGEFQXJVVBEVV4U35BKHSC7W3YWU)\n",
    "![Discrete SIR Model (b=1,k=1/3)](https://raw.githubusercontent.com/caam37830/project-group-7/main/Images/D_SIR_2.png?token=ARGEFQV43NZZTXLFOFLX3G27W3ZNY)\n",
    "\n",
    "For continuous SIR model, the number of susceptible people decreases exponentially until day 18. The number of infectious people peaks at day 9. The number of recovered people increase expnentially.\n",
    "\n",
    "For the discrete version, There are limited infectious people, which leads to small changes in S,I and R. \n",
    "\n",
    "\n",
    "**The second simulation is b=5, k=0.2**\n",
    "\n",
    "![Continous SIR Model (b=5,k=0.2)](https://raw.githubusercontent.com/caam37830/project-group-7/main/Images/C_SIR_2.png?token=ARGEFQXB6FEAB4TUAQ6ZGSC7W3ZLK)\n",
    "![Discrete SIR Model (b=5,k=0.2)](https://raw.githubusercontent.com/caam37830/project-group-7/main/Images/D_SIR_1.png?token=ARGEFQXZ3F4H3BHR6PWR7627W3ZMS)\n",
    "\n",
    "For the continuous model, The number of infectious people reaches its peak at the first few days with approximately 820 people. This leads to number of susceptible people drops to 0 within 3 days. The rate of recovery is relatively slow compare with the rate of infected. It takes around 24 days to recover every patient. \n",
    "\n",
    "For the disrcete model, the number of infectious people reaches its peak at day 18 with approximately 230 people. The rate of recovery for the model is slower than the continous model.\n",
    "\n"
   ]
  },
  {
   "cell_type": "markdown",
   "metadata": {},
   "source": [
    "![Phase Diagram of susceptible for continous SIR model at day 30](https://raw.githubusercontent.com/caam37830/project-group-7/main/Images/Phase_Continuous_S.png?token=ARGEFQR7MPDSBJAND47GN5K7W3ZQA)\n",
    "![Phase Diagram of susceptible for Discrete SIR model at day 30](https://raw.githubusercontent.com/caam37830/project-group-7/main/Images/Phase_Discrete_S.png?token=ARGEFQQVZFS3RCCWSIL4AXS7W3ZRM)\n",
    "![Phase Diagram of infected for continous SIR model at day 30](https://raw.githubusercontent.com/caam37830/project-group-7/main/Images/Phase_Continuous_I.png?token=ARGEFQQSIQHT3TEAQOALO5K7W3ZSK)\n",
    "![Phase Diagram of infected for Discrete SIR model at day 30](https://raw.githubusercontent.com/caam37830/project-group-7/main/Images/Phase_Discrete_I.png?token=ARGEFQR3K5GNB4IV6UX4XSC7W3ZTM)\n",
    "![Phase Diagram of recovered for continous SIR model at day 30](https://raw.githubusercontent.com/caam37830/project-group-7/main/Images/Phase_Continuous_R.png?token=ARGEFQUFX3E6ZDXEO6A4UP27W3ZUI)\n",
    "![Phase Diagram of recovered for Discrete SIR model at day 30](https://raw.githubusercontent.com/caam37830/project-group-7/main/Images/Phase_Discrete_R.png?token=ARGEFQWDI74HXDK7IULR4TS7W3ZUQ)\n",
    "\n",
    "As B increases, the number of susceptible decreases at a higher rate. This is because as more people interacts, people are more likely to be infected. B is not the same in discrete and continuous SIR model. It is more senesitive in continuous model as the number of infected people reaches maximum faster with higher value for fixed b. Paramete k affects the time to be recovered. For fixed k, the number of recovered is larger in continous model. \n",
    "\n",
    "These simulations demonstrate discrete model is different from continuous model. "
   ]
  },
  {
   "cell_type": "markdown",
   "metadata": {},
   "source": [
    "## 4"
   ]
  },
  {
   "cell_type": "markdown",
   "metadata": {},
   "source": [
    "One extension model we propose is to apply these two model into Covid-19 real data. The ultimate purpose for a model is to serve the application, and coronavirus is best example we can use and care recently. What I propose is to input the N(population) as the US total population, I(Infectious people) and R(recovered people) to the model, as well the statistical k(infectious probability) and b(recover rates) from research as a baseline. After that, we can change the k, b, T(Days to simulate) and test how these simulation process will change visually, aiming to find the optimized solution to cool down the cases. At the same time, we might need to consider to add death rate variable to improve the results of the model. Essentially, we hope to use the agent-based model and ODE model to seek for the best way to drop down the cases given a different range of T.\n",
    "\n",
    "The data we are thinking to gather information is from world meter(1).\n",
    "\n",
    "[Data for COVID 19](https://www.worldometers.info/coronavirus/#countries)"
   ]
  },
  {
   "cell_type": "markdown",
   "metadata": {},
   "source": [
    "It is likely for people to be reinfected if people are not immune to the disease after they are recovered.  Therefore, we could implement reinfection into the SIR model. For Agent-Based model, this could be implemented by adding probability of reinfection, where reinfected people would be infected again. Alternatively, we could let people who are recovered becomes susceptible with certain probability. For ODE model, this could be implement by adding probability of reinfection `r`. Then the model could becomes \n",
    "\n",
    "`ds/dt = -b * s(t) * i(t)`\n",
    "\n",
    "`dr/dt = k * i(t) - r * r(t)`\n",
    "\n",
    "`di/dt = b * s(t) * i(t) - k * i(t) + r * r(t)`\n",
    "\n",
    "\n",
    "[Reinfection with COVID 19](https://www.cdc.gov/coronavirus/2019-ncov/your-health/reinfection.html)"
   ]
  },
  {
   "cell_type": "code",
   "execution_count": null,
   "metadata": {},
   "outputs": [],
   "source": []
  }
 ],
 "metadata": {
  "kernelspec": {
   "display_name": "Python 3",
   "language": "python",
   "name": "python3"
  },
  "language_info": {
   "codemirror_mode": {
    "name": "ipython",
    "version": 3
   },
   "file_extension": ".py",
   "mimetype": "text/x-python",
   "name": "python",
   "nbconvert_exporter": "python",
   "pygments_lexer": "ipython3",
   "version": "3.7.6"
  }
 },
 "nbformat": 4,
 "nbformat_minor": 4
}
