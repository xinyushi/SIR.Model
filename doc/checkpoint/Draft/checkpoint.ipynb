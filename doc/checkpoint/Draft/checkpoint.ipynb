{
 "cells": [
  {
   "cell_type": "markdown",
   "metadata": {},
   "source": [
    "## Section 1"
   ]
  },
  {
   "cell_type": "markdown",
   "metadata": {},
   "source": [
    "SIR model shows how disease spreads through a population. People are in one of three states at time t:\n",
    "\n",
    "$s(t)$: the number of susceptible population in the total population at time t.\n",
    "\n",
    "$i(t)$: the number of infectious population in the total population at time t.\n",
    "\n",
    "$r(t)$: the number of removed population in the total population at time t.\n",
    "\n",
    "The model is characterized by the following system of differential equations:\n",
    "\n",
    "$\\frac{ds}{dt} = -b * s(t) * i(t)$\n",
    "\n",
    "$\\frac{dr}{dt} = k * i(t)$\n",
    "\n",
    "$\\frac{di}{dt} = b * s(t) * i(t) - k * i(t)$\n",
    "\n",
    "$b$ represents the number of interactions for each individual per day \n",
    "\n",
    "$k$ represents the recovery rate from the diesease\n",
    "\n",
    "There are some more parameters:\n",
    "\n",
    "$N$ : Total number of people in a population\n",
    "\n",
    "$T$ : Time duration\n",
    "\n",
    "$ii$ : initial fraction of population been infected\n",
    "\n",
    "\n",
    "\n",
    "\n"
   ]
  },
  {
   "cell_type": "markdown",
   "metadata": {},
   "source": [
    "## Section 2"
   ]
  },
  {
   "cell_type": "markdown",
   "metadata": {},
   "source": [
    "Agent-based model:\n",
    "\n",
    "The key idea is that we have total number of N people and some of them are infected initially. These N people interact with b other people per day. If the person is infectious, the person who interacts with him will get infected, which can be done by the discrete method. Later, we introduce k, which is the probability of a person gets recovered. We can choose the duration we want to simulate in the model.\n",
    "\n",
    "\n",
    "ODE model:\n",
    "\n",
    "This model treats SIR model as initial value problem. s(t), i(t), r(t) as fraction of population with $s(t)+i(t)+r(t)=1$ for this model. We could apply solve_ivp from scipy to solve. The parameters are $b$,$k$, $N$ and $ii$."
   ]
  },
  {
   "cell_type": "markdown",
   "metadata": {},
   "source": [
    "## Section 3"
   ]
  },
  {
   "cell_type": "markdown",
   "metadata": {},
   "source": [
    "Fixed parameters for these simulation:\n",
    "- number of days = 150\n",
    "- percentage of initial infected people = 0.01\n",
    "- number of people = 1000\n",
    "\n",
    "**The first simulation of two models is b=1, k=1/3**\n",
    "\n",
    "![Continous SIR Model (b=1,k=1/3)](https://raw.githubusercontent.com/caam37830/project-group-7/main/Images/C_SIR_1.png?token=ARGEFQQHILHBRE4TKRDRTSC7W5QJM)\n",
    "![Discrete SIR Model (b=1,k=1/3)](https://raw.githubusercontent.com/caam37830/project-group-7/main/Images/D_SIR_2.png?token=ARGEFQSBNUC6KYA64KNWSU27W5QKU)\n",
    "\n",
    "For these models, the number of susceptible people decreases exponentially until day 18 at about 70 and then keeps no change. The number of infectious people peaks at about day 9 and decrease to 0 after day 26, which is also the time that recovery people stays at about 930 after an exponential raise. \n",
    "\n",
    "\n",
    "**The second simulation is b=5, k=0.2**\n",
    "\n",
    "![Continous SIR Model (b=5,k=0.2)](https://raw.githubusercontent.com/caam37830/project-group-7/main/Images/C_SIR_2.png?token=ARGEFQSBCGL66ROOYJKFRMS7W5QMO)\n",
    "![Discrete SIR Model (b=5,k=0.2)](https://raw.githubusercontent.com/caam37830/project-group-7/main/Images/D_SIR_1.png?token=ARGEFQU2AHFDVV7K3N7RCGC7W5QNQ)\n",
    "\n",
    "In this case, because of number of contact people increase to 5, the number of infectious people reaches its peak at the first few days with approximately 820 people. This leads to number of susceptible people drops to 0 within 3 days. The rate of recovery is relatively slow compare with the rate of infected. It takes around 24 days to recover every patient. \n",
    "\n",
    "These simulations demonstrate discrete and continuous models are very similar. There are few points in the graph are not smooth is due to calculation errors from the randomness in the discrete model.\n",
    "\n",
    "\n"
   ]
  },
  {
   "cell_type": "markdown",
   "metadata": {},
   "source": [
    "![Phase Diagram of susceptible for continous SIR model at day 30](https://raw.githubusercontent.com/caam37830/project-group-7/main/Images/Phase_Continuous_S.png?token=ARGEFQR4JPVG4NIXJGLHGZC7W5QR2)\n",
    "![Phase Diagram of susceptible for Discrete SIR model at day 30](https://raw.githubusercontent.com/caam37830/project-group-7/main/Images/Phase_Discrete_S.png?token=ARGEFQTAEGB4XGY3QPK4WVK7W5QP2)\n",
    "\n",
    "It is no hard to observe that at day 30, both models illustrate that the susceptible people are about zero in most situations with some exceptions, mainly case b = 1 in continuous model and b = k = 1 in discrete model. This should not be surprising since more people they interact with (b increases), it takes shorter time to spread the disease. At day 30, almost the entire population has already gotten. \n",
    "\n",
    "\n",
    "![Phase Diagram of infected for continous SIR model at day 30](https://raw.githubusercontent.com/caam37830/project-group-7/main/Images/Phase_Continuous_I.png?token=ARGEFQRBQ7VKQCOEMHVULMC7W5Q6I)\n",
    "![Phase Diagram of infected for Discrete SIR model at day 30](https://raw.githubusercontent.com/caam37830/project-group-7/main/Images/Phase_Discrete_I.png?token=ARGEFQS757EY6GGJ7PGIK4S7W5QP6)\n",
    "\n",
    "From the diagram for number of infected people at day 30, as recovery rate (k) increases, number of infected people drops. This result makes common sense because people will be removed from disease if they have higher recovery rates. \n",
    "\n",
    "\n",
    "![Phase Diagram of recovered for continous SIR model at day 30](https://raw.githubusercontent.com/caam37830/project-group-7/main/Images/Phase_Continuous_R.png?token=ARGEFQX6B24PRQLM3COH4VC7W5Q6M)\n",
    "![Phase Diagram of recovered for Discrete SIR model at day 30](https://raw.githubusercontent.com/caam37830/project-group-7/main/Images/Phase_Discrete_R.png?token=ARGEFQWS5R3AQ6XGXUM47HS7W5QRU)\n",
    "\n",
    "\n",
    "In terms of the recovery people at day 30, the diagram should be nearly the complement of the infected people diagram since people are only on this three stages in our model. From the first phase diagram, almost the no people are susceptible except the some cases mentioned. \n",
    "\n"
   ]
  },
  {
   "cell_type": "markdown",
   "metadata": {},
   "source": [
    "## Section 4"
   ]
  },
  {
   "cell_type": "markdown",
   "metadata": {},
   "source": [
    "One extension model we propose is to apply these two models into Covid-19 real data. The ultimate purpose for a model is to serve for real world application, and coronavirus is the best example we can use and really care recently. What I propose is to input the N(population) as the US total population, I(Infectious people) and R(recovered people) to the model, as well the average b(number of contacts) and k(recover rates) from research as a baseline. After that, we can change the b, T(Days to simulate) and test how these simulations process will change visually, aiming to find the optimized solution to cool down the cases. At the same time, we can also consider recovery rates in different age and gender to find more targeted results. For instance, we can model school disease spread to decide if it is wise to reopen the school. Essentially, we hope to use the agent-based model and ODE model to seek for the best way to drop down the cases given a different range of T.\n",
    "\n",
    "The data we are thinking to gather information is from world meter.\n",
    "\n",
    "[Data for COVID 19](https://www.worldometers.info/coronavirus/#countries)\n",
    "\n",
    "[This paper](https://www.ncbi.nlm.nih.gov/pmc/articles/PMC7229949/) shows recovery rate from different ages and gender."
   ]
  },
  {
   "cell_type": "markdown",
   "metadata": {},
   "source": [
    "It is likely for people to be reinfected if people are not immune to the disease after they are recovered.  Therefore, we could implement reinfection into the SIR model. For Agent-Based model, this could be implemented by adding probability of reinfection, where reinfected people would be infected again. Alternatively, we could let people who are recovered becomes susceptible with certain probability. In addition, we could add a new variable `immunization`. This variable stores the probability of been immunized from the disease. For example, `immunization = 0.2` means 80% chance of been reinfection. The value increases if individuals recover from the disease. For ODE model, this could be implement by adding probability of reinfection `r`. Then the model could becomes \n",
    "\n",
    "`ds/dt = -b * s(t) * i(t)`\n",
    "\n",
    "`dr/dt = k * i(t) - r * r(t)`\n",
    "\n",
    "`di/dt = b * s(t) * i(t) - k * i(t) + r * r(t)`\n",
    "\n",
    "[This paper](https://pubmed.ncbi.nlm.nih.gov/3941288/) shows some reinfection rate from past disease.\n",
    "\n",
    "\n",
    "[Reinfection with COVID 19](https://www.cdc.gov/coronavirus/2019-ncov/your-health/reinfection.html)"
   ]
  },
  {
   "cell_type": "markdown",
   "metadata": {},
   "source": [
    "It is obvious that people wearing masks can slow down the disease spread. From [This paper](https://www.ncbi.nlm.nih.gov/pmc/articles/PMC7321055/) we can know that most of Chinese people wore face masks and the actual numbers of infections have decreased at a greater rate. Therefore, we could implement the effect of the use of masks into the SIR model. For Agent-Based model, we can implement it by reducing probability of infection, where the number of interactions each day that could spread the disease redices. For ODE model, we can implement it by reducing the parameter b. We can obtain data from [This paper](https://pubmed.ncbi.nlm.nih.gov/19193267/) to calculate the effection of the use of masks on the number of interactions each day that could spread the disease. Thus, we can judge whether the use of masks can slow down the spread of the virus.\n",
    "\n",
    "The data we can obtain from the paper.\n",
    "\n",
    "[Data for the use of the mask](https://pubmed.ncbi.nlm.nih.gov/19193267/)"
   ]
  },
  {
   "cell_type": "code",
   "execution_count": null,
   "metadata": {},
   "outputs": [],
   "source": []
  }
 ],
 "metadata": {
  "kernelspec": {
   "display_name": "Python 3",
   "language": "python",
   "name": "python3"
  },
  "language_info": {
   "codemirror_mode": {
    "name": "ipython",
    "version": 3
   },
   "file_extension": ".py",
   "mimetype": "text/x-python",
   "name": "python",
   "nbconvert_exporter": "python",
   "pygments_lexer": "ipython3",
   "version": "3.7.6"
  }
 },
 "nbformat": 4,
 "nbformat_minor": 4
}
